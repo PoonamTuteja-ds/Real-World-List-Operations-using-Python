{
  "nbformat": 4,
  "nbformat_minor": 0,
  "metadata": {
    "colab": {
      "provenance": []
    },
    "kernelspec": {
      "name": "python3",
      "display_name": "Python 3"
    },
    "language_info": {
      "name": "python"
    }
  },
  "cells": [
    {
      "cell_type": "code",
      "execution_count": 26,
      "metadata": {
        "colab": {
          "base_uri": "https://localhost:8080/"
        },
        "id": "UJh5EsMtLuvI",
        "outputId": "5604f14a-2554-4424-e348-f8d328ea8d6c"
      },
      "outputs": [
        {
          "output_type": "stream",
          "name": "stdout",
          "text": [
            "Squares: [1, 4, 9, 16, 25, 36, 49, 64, 81, 100]\n",
            "Even numbers: [2, 4, 6, 8, 10]\n",
            "Product of all numbers: 3628800\n",
            "Doubled evens: [4, 8, 12, 16, 20]\n",
            "Squared odd numbers: [1, 9, 25, 49, 81]\n"
          ]
        }
      ],
      "source": [
        "from functools import reduce\n",
        "\n",
        "# Dataset\n",
        "numbers = [1, 2, 3, 4, 5, 6, 7, 8, 9, 10]\n",
        "\n",
        "# 1️⃣ Square each number using map\n",
        "squares = list(map(lambda x: x**2, numbers))\n",
        "print(\"Squares:\", squares)\n",
        "\n",
        "# 2️⃣ Filter even numbers\n",
        "even_numbers = list(filter(lambda x: x % 2 == 0, numbers))\n",
        "print(\"Even numbers:\", even_numbers)\n",
        "\n",
        "# 3️⃣ Reduce: Multiply all numbers\n",
        "product = reduce(lambda x, y: x * y, numbers)\n",
        "print(\"Product of all numbers:\", product)\n",
        "\n",
        "# 4️⃣ Double even numbers using map + filter\n",
        "doubled_evens = list(map(lambda x: x * 2, filter(lambda x: x % 2 == 0, numbers)))\n",
        "print(\"Doubled evens:\", doubled_evens)\n",
        "\n",
        "# 5️⃣ List comprehension: Square odd numbers\n",
        "squared_odds = [x**2 for x in numbers if x % 2 != 0]\n",
        "print(\"Squared odd numbers:\", squared_odds)\n",
        "\n"
      ]
    }
  ]
}